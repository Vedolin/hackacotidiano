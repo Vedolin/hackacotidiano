{
 "cells": [
  {
   "cell_type": "code",
   "execution_count": null,
   "metadata": {},
   "outputs": [],
   "source": [
    "#!pip install --upgrade scrapy"
   ]
  },
  {
   "cell_type": "code",
   "execution_count": null,
   "metadata": {},
   "outputs": [],
   "source": [
    "#!pip install requests\n",
    "#!pip install bs4\n"
   ]
  },
  {
   "cell_type": "code",
   "execution_count": null,
   "metadata": {},
   "outputs": [],
   "source": [
    "#url = 'https://www.indeed.com/resumes?q=iot&l=S%C3%A3o+Paulo%2C+SP'\n",
    "#base_url = 'https://www.empregos.com.br/curriculos/iot/p'\n",
    "topic='back-end'\n",
    "base_url = 'https://www.empregos.com.br/curriculos/'+topic+'/p'\n",
    "last_page_number=30"
   ]
  },
  {
   "cell_type": "code",
   "execution_count": null,
   "metadata": {},
   "outputs": [],
   "source": [
    "import requests\n",
    "from bs4 import BeautifulSoup"
   ]
  },
  {
   "cell_type": "code",
   "execution_count": null,
   "metadata": {},
   "outputs": [],
   "source": [
    "def find_cvs(url, lista):\n",
    "    r = requests.get(url)\n",
    "    soup = BeautifulSoup(r.content, 'html.parser')\n",
    "    lista_curriculos=soup.findAll(\"a\", class_=\"nome-candidato\")\n",
    "    lista_links=[]\n",
    "    for curriculo in lista_curriculos:\n",
    "        lista.append(curriculo.attrs['href'])\n",
    "        print(curriculo.attrs['href'])\n",
    "    return"
   ]
  },
  {
   "cell_type": "code",
   "execution_count": null,
   "metadata": {},
   "outputs": [],
   "source": [
    "lista=[]\n",
    "current_url=base_url\n",
    "for current_page in range(last_page_number):\n",
    "    current_url=base_url+str(current_page+1)\n",
    "    #print ('-----------------------------'+ str(current_page))\n",
    "    print(current_url)\n",
    "    find_cvs(current_url,lista)"
   ]
  },
  {
   "cell_type": "code",
   "execution_count": null,
   "metadata": {
    "scrolled": true
   },
   "outputs": [],
   "source": [
    "print (lista)"
   ]
  },
  {
   "cell_type": "code",
   "execution_count": null,
   "metadata": {},
   "outputs": [],
   "source": [
    "base_url_modal = 'https://www.empregos.com.br/curriculos/modal/'\n",
    "base_filename='curriculo'\n",
    "current_modal=''\n",
    "txt_contents=''\n",
    "\n",
    "for cv_url in lista:\n",
    "    current_modal = cv_url.split(\"/\")[-1]\n",
    "    base_file_name = cv_url.replace(\"https://www.\", \"\").replace(\"/\", \"-\")\n",
    "    \n",
    "    print(base_url_modal+current_modal)\n",
    "    \n",
    "    print('Nome do arquivo'+base_file_name)\n",
    "    \n",
    "    r = requests.get(base_url_modal+current_modal, allow_redirects=True)\n",
    "    \n",
    "#     soup=BeautifulSoup(r, 'html.parser')\n",
    "#     texts = soup.find_All(text=True)\n",
    "#     print (texts)\n",
    "    \n",
    "    \n",
    "    \n",
    "    #txt_contents=BeautifulSoup(r.content, 'html.parser')\n",
    "    #print(txt_contents)\n",
    "    \n",
    "    #txt_contents=r.text\n",
    "    #print(txt_contents)\n",
    "    \n",
    "    #print(text_from_html(txt_contents))\n",
    "    \n",
    "    \n",
    "    soup = BeautifulSoup(r.content, 'html.parser')\n",
    "    dados_curriculo=soup.findAll('span')\n",
    "    print(dados_curriculo)\n",
    "\n",
    "    \n",
    "    \n",
    "    #r = requests.get(\"your url\")\n",
    "\n",
    "    #html_text = r.text\n",
    "    html_text=str(dados_curriculo)\n",
    "    soup = BeautifulSoup(html_text,\"lxml\")\n",
    "\n",
    "    clean_html = ''.join(soup.findAll(text=True))\n",
    "\n",
    "    print(clean_html)\n",
    "\n",
    "\n",
    "    \n",
    "    \n",
    "    \n",
    "    \n",
    "    import pathlib\n",
    "    pathlib.Path('./'+topic+'/short').mkdir(parents=True, exist_ok=True) \n",
    "    pathlib.Path('./'+topic+'/full').mkdir(parents=True, exist_ok=True)\n",
    "\n",
    "\n",
    "    #open(current_modal+'.html', 'w').write(str(r.content))\n",
    "#     open(current_modal+'.html', 'wb').write((r.content))\n",
    "#     open('short_'+current_modal+'.html', 'w').write(clean_html)\n",
    "\n",
    "    open('./'+topic+'/full/'+base_file_name+'.html', 'wb').write((r.content))\n",
    "    open('./'+topic+'/short/short_'+base_file_name+'.html', 'w').write(clean_html)"
   ]
  },
  {
   "cell_type": "code",
   "execution_count": null,
   "metadata": {},
   "outputs": [],
   "source": []
  }
 ],
 "metadata": {
  "kernelspec": {
   "display_name": "Python 3",
   "language": "python",
   "name": "python3"
  },
  "language_info": {
   "codemirror_mode": {
    "name": "ipython",
    "version": 3
   },
   "file_extension": ".py",
   "mimetype": "text/x-python",
   "name": "python",
   "nbconvert_exporter": "python",
   "pygments_lexer": "ipython3",
   "version": "3.6.3"
  }
 },
 "nbformat": 4,
 "nbformat_minor": 2
}
